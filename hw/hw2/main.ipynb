{
 "cells": [
  {
   "cell_type": "raw",
   "id": "5e11adf9-020c-4da9-957e-42cb594e5bf3",
   "metadata": {},
   "source": [
    "---\n",
    "title: \"Assignment 2\"\n",
    "author: \"Jacky(Hsiu-Hsuan) Yeh\"\n",
    "format:\n",
    "  pdf:\n",
    "    toc: false\n",
    "---"
   ]
  },
  {
   "cell_type": "code",
   "execution_count": 40,
   "id": "5988c14e-d85d-4986-8f83-5f9de06742b3",
   "metadata": {
    "execution": {
     "iopub.execute_input": "2024-03-19T01:53:17.141619Z",
     "iopub.status.busy": "2024-03-19T01:53:17.141006Z",
     "iopub.status.idle": "2024-03-19T01:53:17.159629Z",
     "shell.execute_reply": "2024-03-19T01:53:17.158913Z",
     "shell.execute_reply.started": "2024-03-19T01:53:17.141555Z"
    },
    "tags": []
   },
   "outputs": [
    {
     "name": "stderr",
     "output_type": "stream",
     "text": [
      "/home/r12323011/.local/lib/python3.10/site-packages/libpysal/weights/util.py:768: UserWarning: The weights matrix is not fully connected: \n",
      " There are 132 disconnected components.\n",
      " There are 93 islands with ids: 3, 8, 25, 30, 32, 33, 35, 48, 53, 60, 61, 68, 72, 74, 76, 80, 82, 83, 87, 88, 94, 95, 99, 102, 107, 110, 113, 116, 117, 125, 127, 130, 131, 134, 136, 137, 140, 141, 150, 152, 157, 158, 168, 169, 170, 174, 177, 180, 181, 183, 192, 197, 199, 202, 208, 212, 218, 220, 222, 230, 241, 243, 245, 247, 248, 250, 251, 252, 254, 256, 258, 266, 268, 271, 273, 274, 276, 279, 283, 284, 285, 288, 291, 292, 295, 296, 300, 308, 314, 316, 317, 329, 333.\n",
      "  return W(neighbors, weights, id_order=ids, **kwargs)\n"
     ]
    }
   ],
   "source": [
    "import rdata\n",
    "import pandas as pd\n",
    "import numpy as np\n",
    "from libpysal.weights import full2W\n",
    "from spreg import ML_Lag\n",
    "import networkx as nx\n",
    "\n",
    "\n",
    "def preprocess(adjacency_matrix):\n",
    "    np.random.seed(1126)\n",
    "    N = adjacency_matrix.shape[0]\n",
    "\n",
    "    non_zero = np.argwhere(adjacency_matrix.diagonal() == 1)\n",
    "    if len(non_zero) != 0:\n",
    "        for i in non_zero[0]:\n",
    "            adjacency_matrix[i][i] = 0\n",
    "\n",
    "    # iso = np.where(~adjacency_matrix.any(axis=1))[0]\n",
    "    # for i in iso:\n",
    "    #     idx = np.random.choice(range(N))\n",
    "    #     while idx == i:\n",
    "    #         idx = np.random.choice(range(N))\n",
    "    #     adjacency_matrix[i][idx] = 1\n",
    "\n",
    "\n",
    "data_matrix, adjacency_matrix = rdata.read_rda(\n",
    "    'dataset_network_interactions.RData'\n",
    ")['dataset_lecture3']\n",
    "preprocess(adjacency_matrix)\n",
    "W = full2W(adjacency_matrix)"
   ]
  },
  {
   "cell_type": "code",
   "execution_count": 41,
   "id": "b730872a-723b-4494-bb60-26c49f93e0c1",
   "metadata": {
    "execution": {
     "iopub.execute_input": "2024-03-19T01:53:18.521254Z",
     "iopub.status.busy": "2024-03-19T01:53:18.520367Z",
     "iopub.status.idle": "2024-03-19T01:53:18.532589Z",
     "shell.execute_reply": "2024-03-19T01:53:18.531295Z",
     "shell.execute_reply.started": "2024-03-19T01:53:18.521190Z"
    },
    "tags": []
   },
   "outputs": [],
   "source": [
    "_X = pd.DataFrame(\n",
    "    data_matrix,\n",
    "    columns=[\n",
    "        'gpa', 'smoke_freq', 'drink', 'club', 'exer',\n",
    "        'male', 'black', 'hisp', 'asian', 'race_other',\n",
    "        'both_par', 'less_hs', 'more_hs', 'momedu_miss',\n",
    "        'Prof', 'Home', 'job_other'\n",
    "    ]\n",
    ")\n",
    "y = _X.gpa.to_numpy()\n",
    "name_x = [\n",
    "    'male', 'black', 'hisp', 'asian',\n",
    "    'race_other', 'both_par', 'less_hs',\n",
    "    'more_hs', 'momedu_miss', 'Prof',\n",
    "    'Home', 'job_other'\n",
    "]\n",
    "X = _X[name_x]"
   ]
  },
  {
   "cell_type": "markdown",
   "id": "1c5adb0c-9f77-43f1-b963-ef352478cb1b",
   "metadata": {},
   "source": [
    "## Problem 1 \n",
    "Using the data set dataset_network_interactions provided in the course demonstration, estimate the spatial Durbin model where the regressors WX are included. Report your estimation results."
   ]
  },
  {
   "cell_type": "code",
   "execution_count": 43,
   "id": "816719c3-2ab9-46dd-ac2a-3638ebcd8f5f",
   "metadata": {
    "execution": {
     "iopub.execute_input": "2024-03-19T02:03:42.328881Z",
     "iopub.status.busy": "2024-03-19T02:03:42.327697Z",
     "iopub.status.idle": "2024-03-19T02:03:42.421577Z",
     "shell.execute_reply": "2024-03-19T02:03:42.420943Z",
     "shell.execute_reply.started": "2024-03-19T02:03:42.328815Z"
    },
    "tags": []
   },
   "outputs": [
    {
     "name": "stdout",
     "output_type": "stream",
     "text": [
      "REGRESSION RESULTS\n",
      "------------------\n",
      "\n",
      "SUMMARY OF OUTPUT: MAXIMUM LIKELIHOOD SPATIAL LAG (METHOD = FULL)\n",
      "-----------------------------------------------------------------\n",
      "Data set            :     unknown\n",
      "Weights matrix      :     unknown\n",
      "Dependent Variable  :         gpa                Number of Observations:         336\n",
      "Mean dependent var  :      2.9779                Number of Variables   :          26\n",
      "S.D. dependent var  :      0.6925                Degrees of Freedom    :         310\n",
      "Pseudo R-squared    :      0.2196\n",
      "Spatial Pseudo R-squared:  0.2096\n",
      "Log likelihood      :   -311.7780\n",
      "Sigma-square ML     :      0.3732                Akaike info criterion :     675.556\n",
      "S.E of regression   :      0.6109                Schwarz criterion     :     774.801\n",
      "\n",
      "------------------------------------------------------------------------------------\n",
      "            Variable     Coefficient       Std.Error     z-Statistic     Probability\n",
      "------------------------------------------------------------------------------------\n",
      "            CONSTANT         3.07745         0.18805        16.36527         0.00000\n",
      "                male        -0.11223         0.07242        -1.54973         0.12121\n",
      "               black        -0.31892         0.14309        -2.22878         0.02583\n",
      "                hisp        -0.46580         0.17252        -2.70002         0.00693\n",
      "               asian        -0.06983         0.15069        -0.46337         0.64310\n",
      "          race_other        -0.49197         0.39402        -1.24859         0.21182\n",
      "            both_par        -0.01411         0.08690        -0.16242         0.87098\n",
      "             less_hs         0.18006         0.16361         1.10052         0.27110\n",
      "             more_hs         0.11881         0.10584         1.12257         0.26162\n",
      "         momedu_miss         0.02249         0.13476         0.16685         0.86749\n",
      "                Prof        -0.03509         0.12624        -0.27794         0.78106\n",
      "                Home        -0.18428         0.15067        -1.22309         0.22130\n",
      "           job_other        -0.15493         0.12564        -1.23311         0.21753\n",
      "        spatial_male         0.12237         0.10217         1.19776         0.23101\n",
      "       spatial_black        -0.31118         0.15433        -2.01639         0.04376\n",
      "        spatial_hisp        -0.27512         0.26477        -1.03911         0.29875\n",
      "       spatial_asian         0.15733         0.18979         0.82896         0.40713\n",
      "  spatial_race_other         0.58706         0.45905         1.27887         0.20094\n",
      "    spatial_both_par        -0.20306         0.12637        -1.60690         0.10808\n",
      "     spatial_less_hs        -0.18725         0.23405        -0.80005         0.42368\n",
      "     spatial_more_hs         0.10232         0.16445         0.62218         0.53383\n",
      " spatial_momedu_miss         0.10709         0.21110         0.50731         0.61194\n",
      "        spatial_Prof         0.11018         0.19381         0.56852         0.56968\n",
      "        spatial_Home         0.09747         0.22165         0.43975         0.66012\n",
      "   spatial_job_other         0.23712         0.18707         1.26754         0.20496\n",
      "               W_gpa         0.09614         0.04626         2.07835         0.03768\n",
      "------------------------------------------------------------------------------------\n",
      "================================ END OF REPORT =====================================\n"
     ]
    }
   ],
   "source": [
    "W.transform = 'r'\n",
    "WX = np.dot(W.full()[0], X)\n",
    "X_extended = np.hstack([X, WX])\n",
    "\n",
    "model = ML_Lag(\n",
    "    y, X_extended, W,\n",
    "    method='full',\n",
    "    name_y = 'gpa',\n",
    "    name_x = name_x + [f'spatial_{i}'for i in name_x]\n",
    ")\n",
    "print(model.summary)"
   ]
  },
  {
   "cell_type": "markdown",
   "id": "cc8b9012-283b-400e-b461-f2604647f65c",
   "metadata": {},
   "source": [
    "## Problem 2\n",
    "Change the specification of weights matrix to binary values, i.e., do not row-standardize the weights matrix, and estimate the above spatial Durbin model again. Report your estimation results. "
   ]
  },
  {
   "cell_type": "code",
   "execution_count": 47,
   "id": "c2d6e244-24e5-48a8-be41-1abeb61dcb20",
   "metadata": {
    "execution": {
     "iopub.execute_input": "2024-03-19T02:04:11.359339Z",
     "iopub.status.busy": "2024-03-19T02:04:11.358727Z",
     "iopub.status.idle": "2024-03-19T02:04:11.479593Z",
     "shell.execute_reply": "2024-03-19T02:04:11.478926Z",
     "shell.execute_reply.started": "2024-03-19T02:04:11.359272Z"
    },
    "tags": []
   },
   "outputs": [
    {
     "name": "stdout",
     "output_type": "stream",
     "text": [
      "REGRESSION RESULTS\n",
      "------------------\n",
      "\n",
      "SUMMARY OF OUTPUT: MAXIMUM LIKELIHOOD SPATIAL LAG (METHOD = FULL)\n",
      "-----------------------------------------------------------------\n",
      "Data set            :     unknown\n",
      "Weights matrix      :     unknown\n",
      "Dependent Variable  :         gpa                Number of Observations:         336\n",
      "Mean dependent var  :      2.9779                Number of Variables   :          26\n",
      "S.D. dependent var  :      0.6925                Degrees of Freedom    :         310\n",
      "Pseudo R-squared    :      0.1854\n",
      "Spatial Pseudo R-squared:  0.1773\n",
      "Log likelihood      :   -318.6715\n",
      "Sigma-square ML     :      0.3895                Akaike info criterion :     689.343\n",
      "S.E of regression   :      0.6241                Schwarz criterion     :     788.588\n",
      "\n",
      "------------------------------------------------------------------------------------\n",
      "            Variable     Coefficient       Std.Error     z-Statistic     Probability\n",
      "------------------------------------------------------------------------------------\n",
      "            CONSTANT         3.22754         0.18861        17.11204         0.00000\n",
      "                male        -0.10860         0.07365        -1.47441         0.14037\n",
      "               black        -0.42628         0.14336        -2.97356         0.00294\n",
      "                hisp        -0.47935         0.17408        -2.75370         0.00589\n",
      "               asian         0.05779         0.15179         0.38075         0.70339\n",
      "          race_other        -0.22913         0.38991        -0.58765         0.55677\n",
      "            both_par        -0.04574         0.08958        -0.51060         0.60963\n",
      "             less_hs         0.18068         0.16825         1.07388         0.28288\n",
      "             more_hs         0.11524         0.10930         1.05440         0.29170\n",
      "         momedu_miss        -0.00849         0.13948        -0.06086         0.95147\n",
      "                Prof        -0.03637         0.12922        -0.28143         0.77838\n",
      "                Home        -0.08751         0.15420        -0.56753         0.57035\n",
      "           job_other        -0.14233         0.12971        -1.09730         0.27251\n",
      "        spatial_male         0.07309         0.06099         1.19837         0.23077\n",
      "       spatial_black        -0.07201         0.08104        -0.88863         0.37420\n",
      "        spatial_hisp        -0.19482         0.14812        -1.31525         0.18843\n",
      "       spatial_asian        -0.08069         0.10247        -0.78749         0.43100\n",
      "  spatial_race_other         0.35969         0.34129         1.05390         0.29193\n",
      "    spatial_both_par        -0.11759         0.08170        -1.43937         0.15005\n",
      "     spatial_less_hs        -0.02532         0.13221        -0.19151         0.84812\n",
      "     spatial_more_hs        -0.00721         0.08818        -0.08176         0.93483\n",
      " spatial_momedu_miss         0.10036         0.10633         0.94382         0.34526\n",
      "        spatial_Prof         0.07818         0.11698         0.66835         0.50391\n",
      "        spatial_Home         0.01584         0.13977         0.11330         0.90979\n",
      "   spatial_job_other         0.09404         0.10899         0.86283         0.38823\n",
      "               W_gpa         0.03513         0.02486         1.41325         0.15758\n",
      "------------------------------------------------------------------------------------\n",
      "================================ END OF REPORT =====================================\n"
     ]
    },
    {
     "name": "stderr",
     "output_type": "stream",
     "text": [
      "/home/r12323011/.local/lib/python3.10/site-packages/spreg/ml_lag.py:634: RuntimeWarning: invalid value encountered in log\n",
      "  jacob = np.log(np.linalg.det(a))\n"
     ]
    }
   ],
   "source": [
    "W.transform = 'b'\n",
    "WX = np.dot(W.full()[0], X)\n",
    "X_extended = np.hstack([X, WX])\n",
    "\n",
    "model = ML_Lag(\n",
    "    y, X_extended, W,\n",
    "    method='full',\n",
    "    name_y = 'gpa',\n",
    "    name_x = name_x + [f'spatial_{i}'for i in name_x]\n",
    ")\n",
    "print(model.summary)"
   ]
  },
  {
   "cell_type": "markdown",
   "id": "b36e0d19-4418-4c56-8d3b-f71c89ed0964",
   "metadata": {},
   "source": [
    "## Problem 3\n",
    "Redo 2. by adding an additional regressor of individual network degree. Report your estimation results. "
   ]
  },
  {
   "cell_type": "code",
   "execution_count": 28,
   "id": "9cdb4965-c3ad-45be-ad99-efe92c35aab6",
   "metadata": {
    "execution": {
     "iopub.execute_input": "2024-03-19T01:40:20.382579Z",
     "iopub.status.busy": "2024-03-19T01:40:20.381597Z",
     "iopub.status.idle": "2024-03-19T01:40:20.394259Z",
     "shell.execute_reply": "2024-03-19T01:40:20.393305Z",
     "shell.execute_reply.started": "2024-03-19T01:40:20.382497Z"
    },
    "tags": []
   },
   "outputs": [],
   "source": [
    "G = nx.from_numpy_array(adjacency_matrix, create_using=nx.DiGraph)\n",
    "in_degree_centrality = nx.in_degree_centrality(G)\n",
    "out_degree_centrality = nx.out_degree_centrality(G)\n",
    "\n",
    "in_degree = np.array(list(in_degree_centrality.values()))\n",
    "out_degree = np.array(list(out_degree_centrality.values()))\n",
    "degree = (in_degree + out_degree).reshape(-1, 1)"
   ]
  },
  {
   "cell_type": "code",
   "execution_count": 29,
   "id": "5d83428d-0016-4d9a-8059-1e35e461c41c",
   "metadata": {
    "execution": {
     "iopub.execute_input": "2024-03-19T01:40:22.120846Z",
     "iopub.status.busy": "2024-03-19T01:40:22.119974Z",
     "iopub.status.idle": "2024-03-19T01:40:22.224793Z",
     "shell.execute_reply": "2024-03-19T01:40:22.224157Z",
     "shell.execute_reply.started": "2024-03-19T01:40:22.120782Z"
    },
    "tags": []
   },
   "outputs": [
    {
     "name": "stdout",
     "output_type": "stream",
     "text": [
      "REGRESSION RESULTS\n",
      "------------------\n",
      "\n",
      "SUMMARY OF OUTPUT: MAXIMUM LIKELIHOOD SPATIAL LAG (METHOD = FULL)\n",
      "-----------------------------------------------------------------\n",
      "Data set            :     unknown\n",
      "Weights matrix      :     unknown\n",
      "Dependent Variable  :         gpa                Number of Observations:         336\n",
      "Mean dependent var  :      2.9779                Number of Variables   :          27\n",
      "S.D. dependent var  :      0.6925                Degrees of Freedom    :         309\n",
      "Pseudo R-squared    :      0.1944\n",
      "Spatial Pseudo R-squared:  0.1802\n",
      "Log likelihood      :   -317.5684\n",
      "Sigma-square ML     :      0.3853                Akaike info criterion :     689.137\n",
      "S.E of regression   :      0.6207                Schwarz criterion     :     792.199\n",
      "\n",
      "------------------------------------------------------------------------------------\n",
      "            Variable     Coefficient       Std.Error     z-Statistic     Probability\n",
      "------------------------------------------------------------------------------------\n",
      "            CONSTANT         3.26107         0.18873        17.27879         0.00000\n",
      "        total_degree       -48.49033        31.29689        -1.54937         0.12129\n",
      "                male        -0.10955         0.07327        -1.49526         0.13485\n",
      "               black        -0.45007         0.14364        -3.13342         0.00173\n",
      "                hisp        -0.51526         0.17448        -2.95318         0.00315\n",
      "               asian         0.02279         0.15232         0.14963         0.88106\n",
      "          race_other        -0.25173         0.38802        -0.64875         0.51650\n",
      "            both_par        -0.04018         0.08911        -0.45089         0.65207\n",
      "             less_hs         0.18246         0.16734         1.09036         0.27555\n",
      "             more_hs         0.11309         0.10873         1.04008         0.29830\n",
      "         momedu_miss        -0.00566         0.13877        -0.04077         0.96748\n",
      "                Prof        -0.03547         0.12858        -0.27586         0.78265\n",
      "                Home        -0.08797         0.15339        -0.57347         0.56632\n",
      "           job_other        -0.14320         0.12908        -1.10940         0.26726\n",
      "        spatial_male         0.08207         0.06109         1.34352         0.17910\n",
      "       spatial_black        -0.00382         0.09399        -0.04059         0.96762\n",
      "        spatial_hisp        -0.10869         0.15572        -0.69798         0.48519\n",
      "       spatial_asian        -0.00729         0.11288        -0.06455         0.94853\n",
      "  spatial_race_other         0.45906         0.34443         1.33284         0.18259\n",
      "    spatial_both_par        -0.06929         0.08677        -0.79853         0.42456\n",
      "     spatial_less_hs        -0.00546         0.13188        -0.04141         0.96697\n",
      "     spatial_more_hs         0.04775         0.09382         0.50898         0.61077\n",
      " spatial_momedu_miss         0.12596         0.10695         1.17769         0.23892\n",
      "        spatial_Prof         0.12534         0.12177         1.02935         0.30331\n",
      "        spatial_Home         0.07980         0.14661         0.54429         0.58624\n",
      "   spatial_job_other         0.14468         0.11509         1.25717         0.20869\n",
      "               W_gpa         0.06359         0.02912         2.18390         0.02897\n",
      "------------------------------------------------------------------------------------\n",
      "================================ END OF REPORT =====================================\n"
     ]
    },
    {
     "name": "stderr",
     "output_type": "stream",
     "text": [
      "/home/r12323011/.local/lib/python3.10/site-packages/spreg/ml_lag.py:634: RuntimeWarning: invalid value encountered in log\n",
      "  jacob = np.log(np.linalg.det(a))\n"
     ]
    }
   ],
   "source": [
    "X_extended = np.hstack([degree, X, WX])\n",
    "\n",
    "model = ML_Lag(\n",
    "    y, X_extended, W,\n",
    "    method='full',\n",
    "    name_y = 'gpa',\n",
    "    name_x = ['total_degree'] + name_x + [f'spatial_{i}'for i in name_x]\n",
    ")\n",
    "print(model.summary)"
   ]
  },
  {
   "cell_type": "markdown",
   "id": "b60412a5-8619-433e-9722-c201bf535773",
   "metadata": {},
   "source": [
    "### contextualized degree centrality"
   ]
  },
  {
   "cell_type": "code",
   "execution_count": 39,
   "id": "32b2e829-8812-440b-9f53-71a0739db7e6",
   "metadata": {
    "execution": {
     "iopub.execute_input": "2024-03-19T01:43:43.757666Z",
     "iopub.status.busy": "2024-03-19T01:43:43.756474Z",
     "iopub.status.idle": "2024-03-19T01:43:43.860184Z",
     "shell.execute_reply": "2024-03-19T01:43:43.859526Z",
     "shell.execute_reply.started": "2024-03-19T01:43:43.757615Z"
    },
    "tags": []
   },
   "outputs": [
    {
     "name": "stdout",
     "output_type": "stream",
     "text": [
      "REGRESSION RESULTS\n",
      "------------------\n",
      "\n",
      "SUMMARY OF OUTPUT: MAXIMUM LIKELIHOOD SPATIAL LAG (METHOD = FULL)\n",
      "-----------------------------------------------------------------\n",
      "Data set            :     unknown\n",
      "Weights matrix      :     unknown\n",
      "Dependent Variable  :         gpa                Number of Observations:         336\n",
      "Mean dependent var  :      2.9779                Number of Variables   :          28\n",
      "S.D. dependent var  :      0.6925                Degrees of Freedom    :         308\n",
      "Pseudo R-squared    :      0.1945\n",
      "Spatial Pseudo R-squared:  0.1808\n",
      "Log likelihood      :   -317.5531\n",
      "Sigma-square ML     :      0.3852                Akaike info criterion :     691.106\n",
      "S.E of regression   :      0.6207                Schwarz criterion     :     797.985\n",
      "\n",
      "------------------------------------------------------------------------------------\n",
      "            Variable     Coefficient       Std.Error     z-Statistic     Probability\n",
      "------------------------------------------------------------------------------------\n",
      "            CONSTANT         3.26036         0.18875        17.27319         0.00000\n",
      "        total_degree       -47.43946        31.53471        -1.50436         0.13249\n",
      "                male        -0.11028         0.07340        -1.50235         0.13301\n",
      "               black        -0.45060         0.14366        -3.13655         0.00171\n",
      "                hisp        -0.51492         0.17449        -2.95109         0.00317\n",
      "               asian         0.02276         0.15232         0.14944         0.88120\n",
      "          race_other        -0.25028         0.38806        -0.64495         0.51896\n",
      "            both_par        -0.03982         0.08914        -0.44675         0.65506\n",
      "             less_hs         0.18086         0.16756         1.07939         0.28042\n",
      "             more_hs         0.11346         0.10874         1.04342         0.29675\n",
      "         momedu_miss        -0.00708         0.13903        -0.05092         0.95939\n",
      "                Prof        -0.03607         0.12864        -0.28040         0.77917\n",
      "                Home        -0.08817         0.15339        -0.57480         0.56543\n",
      "           job_other        -0.14405         0.12919        -1.11503         0.26484\n",
      "spatial_total_degree        -0.52640         3.01605        -0.17453         0.86145\n",
      "        spatial_male         0.08356         0.06172         1.35392         0.17576\n",
      "       spatial_black        -0.00227         0.09457        -0.02397         0.98087\n",
      "        spatial_hisp        -0.10840         0.15577        -0.69588         0.48650\n",
      "       spatial_asian        -0.00441         0.11399        -0.03872         0.96911\n",
      "  spatial_race_other         0.45727         0.34451         1.32730         0.18441\n",
      "    spatial_both_par        -0.06728         0.08757        -0.76830         0.44231\n",
      "     spatial_less_hs        -0.00671         0.13204        -0.05085         0.95945\n",
      "     spatial_more_hs         0.04727         0.09386         0.50364         0.61451\n",
      " spatial_momedu_miss         0.12682         0.10705         1.18465         0.23616\n",
      "        spatial_Prof         0.12585         0.12180         1.03321         0.30151\n",
      "        spatial_Home         0.07661         0.14766         0.51878         0.60391\n",
      "   spatial_job_other         0.14568         0.11524         1.26411         0.20619\n",
      "               W_gpa         0.06348         0.02929         2.16701         0.03023\n",
      "------------------------------------------------------------------------------------\n",
      "================================ END OF REPORT =====================================\n"
     ]
    },
    {
     "name": "stderr",
     "output_type": "stream",
     "text": [
      "/home/r12323011/.local/lib/python3.10/site-packages/spreg/ml_lag.py:634: RuntimeWarning: invalid value encountered in log\n",
      "  jacob = np.log(np.linalg.det(a))\n"
     ]
    }
   ],
   "source": [
    "X_degree = pd.concat([pd.DataFrame(degree), X], axis=1).rename(columns={0: 'degree'})\n",
    "WX = np.dot(W.full()[0], X_degree)\n",
    "X_extended = np.hstack([X_degree, WX])\n",
    "\n",
    "model = ML_Lag(\n",
    "    y, X_extended, W,\n",
    "    method='full',\n",
    "    name_y = 'gpa',\n",
    "    name_x = ['total_degree'] + name_x + ['spatial_total_degree'] + [f'spatial_{i}'for i in name_x]\n",
    ")\n",
    "print(model.summary)"
   ]
  }
 ],
 "metadata": {
  "kernelspec": {
   "display_name": "Poetry",
   "language": "python",
   "name": "poetry-kernel"
  },
  "language_info": {
   "codemirror_mode": {
    "name": "ipython",
    "version": 3
   },
   "file_extension": ".py",
   "mimetype": "text/x-python",
   "name": "python",
   "nbconvert_exporter": "python",
   "pygments_lexer": "ipython3",
   "version": "3.10.13"
  }
 },
 "nbformat": 4,
 "nbformat_minor": 5
}
